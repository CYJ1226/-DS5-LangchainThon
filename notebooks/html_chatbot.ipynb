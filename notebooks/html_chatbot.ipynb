{
 "cells": [
  {
   "cell_type": "markdown",
   "id": "641ba1bc",
   "metadata": {},
   "source": [
    "**[필요한 라이브러리 호출 및 API키 설정]**"
   ]
  },
  {
   "cell_type": "code",
   "execution_count": 1,
   "id": "594d8dcd",
   "metadata": {},
   "outputs": [],
   "source": [
    "import os\n",
    "from dotenv import load_dotenv\n",
    "\n",
    "load_dotenv()\n",
    "OPENAI_API_KEY = os.getenv(\"OPENAI_API_KEY\")"
   ]
  },
  {
   "cell_type": "code",
   "execution_count": 2,
   "id": "fdedc48a",
   "metadata": {},
   "outputs": [
    {
     "name": "stderr",
     "output_type": "stream",
     "text": [
      "c:\\Users\\user\\Desktop\\MODULABS\\LangchainThon\\LangchainThon\\.venv\\Lib\\site-packages\\tqdm\\auto.py:21: TqdmWarning: IProgress not found. Please update jupyter and ipywidgets. See https://ipywidgets.readthedocs.io/en/stable/user_install.html\n",
      "  from .autonotebook import tqdm as notebook_tqdm\n"
     ]
    }
   ],
   "source": [
    "from langchain.vectorstores import Chroma\n",
    "from langchain_text_splitters import RecursiveCharacterTextSplitter\n",
    "from langchain_openai import OpenAIEmbeddings, ChatOpenAI\n",
    "from langchain_core.runnables import RunnablePassthrough, RunnableParallel\n",
    "from langchain_core.output_parsers import StrOutputParser\n",
    "from langchain import hub\n",
    "from langchain_core.runnables.history import BaseChatMessageHistory, RunnableWithMessageHistory\n",
    "from langchain_core.prompts import ChatPromptTemplate"
   ]
  },
  {
   "cell_type": "markdown",
   "id": "1f6f2317",
   "metadata": {},
   "source": [
    "### **[데이터 로드]**"
   ]
  },
  {
   "cell_type": "markdown",
   "id": "fc94547d",
   "metadata": {},
   "source": [
    "**[청크 분할]**"
   ]
  },
  {
   "cell_type": "code",
   "execution_count": 3,
   "id": "dc6e2bcc",
   "metadata": {},
   "outputs": [],
   "source": [
    "# Chunk split\n",
    "text_splitter = RecursiveCharacterTextSplitter(\n",
    "    chunk_size=500,\n",
    "    chunk_overlap=200,\n",
    "    separators=[\"\\n\\n\", \"\\n\", \" \", \"\"]             \n",
    ")"
   ]
  },
  {
   "cell_type": "markdown",
   "id": "6011f7c7",
   "metadata": {},
   "source": [
    "**[PDF 문서 로드/분할 및 벡터 임베딩]**"
   ]
  },
  {
   "cell_type": "code",
   "execution_count": 4,
   "id": "747122ac",
   "metadata": {},
   "outputs": [],
   "source": [
    "from langchain_community.document_loaders import PyPDFLoader\n",
    "\n",
    "PDF_PATH = r\"C:\\Users\\user\\Desktop\\MODULABS\\LangchainThon\\Data\\pdf\\모두연 브랜딩북 정리.pdf\"\n",
    "\n",
    "loader_pdf = PyPDFLoader(PDF_PATH)\n",
    "pages_pdf = loader_pdf.load()\n",
    "\n",
    "docs_pdf = text_splitter.split_documents(pages_pdf)"
   ]
  },
  {
   "cell_type": "markdown",
   "id": "5ebe74ee",
   "metadata": {},
   "source": [
    "**[HTML 문서 로드/분할 및 벡터 임베딩]**"
   ]
  },
  {
   "cell_type": "code",
   "execution_count": 5,
   "id": "5ae932ce",
   "metadata": {},
   "outputs": [],
   "source": [
    "from langchain_community.document_loaders import UnstructuredHTMLLoader\n",
    "\n",
    "HTML_PATH = [\n",
    "    r\"C:\\Users\\user\\Desktop\\MODULABS\\LangchainThon\\Data\\html\\출결 및 공가에 대하여 23f2d25db6248149a6faf3763fbcfdae.html\",\n",
    "    r\"C:\\Users\\user\\Desktop\\MODULABS\\LangchainThon\\Data\\html\\데싸 5기 훈련 정보 23f2d25db62481f3aa6bc6dbdf2fc11c.html\"\n",
    "]\n",
    "\n",
    "html_list = []\n",
    "\n",
    "# 각 파일 로드\n",
    "for path in HTML_PATH:\n",
    "    loader_html = UnstructuredHTMLLoader(path)\n",
    "    pages_html = loader_html.load()\n",
    "    html_list.extend(pages_html)  \n",
    "\n",
    "docs_html = text_splitter.split_documents(html_list)"
   ]
  },
  {
   "cell_type": "markdown",
   "id": "5a4f2b51",
   "metadata": {},
   "source": [
    "**[WORD 문서 로드/분할 및 벡터 임베딩]**"
   ]
  },
  {
   "cell_type": "code",
   "execution_count": 6,
   "id": "0932673e",
   "metadata": {},
   "outputs": [],
   "source": [
    "from langchain_community.document_loaders import Docx2txtLoader\n",
    "\n",
    "WORD_PATH = r\"C:\\Users\\user\\Desktop\\MODULABS\\LangchainThon\\Data\\word\\휴가신청서(데싸_5기).docx\"\n",
    "loader_word = Docx2txtLoader(WORD_PATH)\n",
    "pages_word = loader_word.load()\n",
    "\n",
    "docs_word = text_splitter.split_documents(pages_word)"
   ]
  },
  {
   "cell_type": "markdown",
   "id": "bd0ce026",
   "metadata": {},
   "source": [
    "**[CSV 문서 로드/분할 및 벡터 임베딩]**"
   ]
  },
  {
   "cell_type": "code",
   "execution_count": 7,
   "id": "5eb64b24",
   "metadata": {},
   "outputs": [],
   "source": [
    "from langchain_community.document_loaders.csv_loader import CSVLoader\n",
    "\n",
    "CSV_PATH = [\n",
    "    r\"C:\\Users\\user\\Desktop\\MODULABS\\LangchainThon\\Data\\csv\\데이터 사이언티스트 5기 일정표.csv\",\n",
    "    r\"C:\\Users\\user\\Desktop\\MODULABS\\LangchainThon\\Data\\csv\\데싸 5기 동료들.csv\",\n",
    "    r\"C:\\Users\\user\\Desktop\\MODULABS\\LangchainThon\\Data\\csv\\데싸 5기 운영진.csv\"\n",
    "]\n",
    "\n",
    "csv_list = []\n",
    "\n",
    "# 각 파일 로드\n",
    "for path in CSV_PATH:\n",
    "    loader_csv = CSVLoader(path, encoding = 'cp949')\n",
    "    pages_csv = loader_csv.load()\n",
    "    csv_list.extend(pages_csv)  \n",
    "\n",
    "docs_csv = text_splitter.split_documents(csv_list)"
   ]
  },
  {
   "cell_type": "code",
   "execution_count": 8,
   "id": "035b368b",
   "metadata": {},
   "outputs": [
    {
     "data": {
      "text/plain": [
       "142"
      ]
     },
     "execution_count": 8,
     "metadata": {},
     "output_type": "execute_result"
    }
   ],
   "source": [
    "len(docs_csv)"
   ]
  },
  {
   "cell_type": "code",
   "execution_count": 23,
   "id": "2d67bb9d",
   "metadata": {},
   "outputs": [
    {
     "name": "stdout",
     "output_type": "stream",
     "text": [
      "이름: 한현종 휴가\n",
      "전산신청(운매체크): No\n",
      "Files & media: \n",
      "Text: \n",
      "공결여부(그루체크): Yes\n",
      "날짜: 03/14/2024\n",
      "부재시간: \n",
      "비고 (메모): \n",
      "상태: 출결\n",
      "서류제출: No\n"
     ]
    }
   ],
   "source": [
    "print(docs_csv[10].page_content)"
   ]
  },
  {
   "cell_type": "markdown",
   "id": "536bbd30",
   "metadata": {},
   "source": [
    "**[벡터db 저장]**"
   ]
  },
  {
   "cell_type": "code",
   "execution_count": 10,
   "id": "12909009",
   "metadata": {},
   "outputs": [],
   "source": [
    "# ChromaDB 벡터 임베딩 후 저장\n",
    "vectorstore = Chroma.from_documents(docs_html, OpenAIEmbeddings(model='text-embedding-3-small'))\n",
    "\n",
    "vectorstore.add_documents(docs_word)\n",
    "vectorstore.add_documents(docs_csv)\n",
    "vectorstore.add_documents(docs_pdf)\n",
    "\n",
    "retriever = vectorstore.as_retriever(search_kwargs={\"k\": 6})"
   ]
  },
  {
   "cell_type": "markdown",
   "id": "15e86f4b",
   "metadata": {},
   "source": [
    "## **[RAG 시스템]**"
   ]
  },
  {
   "cell_type": "markdown",
   "id": "e1c64759",
   "metadata": {},
   "source": [
    "**[채팅 히스토리와 사용자 질문 통합]**"
   ]
  },
  {
   "cell_type": "code",
   "execution_count": 11,
   "id": "e8d352db",
   "metadata": {},
   "outputs": [],
   "source": [
    "from langchain.chains.combine_documents import create_stuff_documents_chain\n",
    "from langchain.chains import create_history_aware_retriever, create_retrieval_chain\n",
    "from langchain.prompts import ChatPromptTemplate, MessagesPlaceholder\n",
    "from langchain_core.messages import AIMessage, HumanMessage\n",
    "\n",
    "# LLM 모델 선언\n",
    "llm = ChatOpenAI(model=\"gpt-4o-mini\", temperature=0)\n",
    "\n",
    "# 질문 프롬프트\n",
    "contextualize_q_system_prompt = \"\"\"이전 대화가 있다면 참고하여,\n",
    "사용자의 최신 질문을 독립적으로 이해 가능한 한 문장으로 바꿔주세요.\n",
    "답변하지 말고 질문만 재작성하세요.\"\"\"\n",
    "\n",
    "contextualize_q_prompt = ChatPromptTemplate.from_messages(\n",
    "    [\n",
    "        (\"system\", contextualize_q_system_prompt),\n",
    "        MessagesPlaceholder(\"chat_history\"),\n",
    "        (\"human\", \"{input}\"),\n",
    "    ]\n",
    ")\n",
    "\n",
    "history_aware_retriever = create_history_aware_retriever(\n",
    "    llm, \n",
    "    retriever, \n",
    "    contextualize_q_prompt\n",
    ")\n",
    "\n",
    "# 답변 프롬프트\n",
    "qa_system_prompt = \"\"\"아래 문서 내용만을 근거로 답하세요.\n",
    "근거가 없으면 '문서에서 관련 내용이 확인되지 않습니다.'라고 대답하세요.\n",
    "최대 3문장으로 짧게 답변하세요.\n",
    "\n",
    "{context}\"\"\"\n",
    "qa_prompt = ChatPromptTemplate.from_messages(\n",
    "    [\n",
    "        (\"system\", qa_system_prompt),\n",
    "        MessagesPlaceholder(\"chat_history\"),\n",
    "        (\"human\", \"{input}\"),\n",
    "    ]\n",
    ")"
   ]
  },
  {
   "cell_type": "markdown",
   "id": "5101ee6b",
   "metadata": {},
   "source": [
    "**[RAG 체인 구축]**"
   ]
  },
  {
   "cell_type": "code",
   "execution_count": 12,
   "id": "49168215",
   "metadata": {},
   "outputs": [],
   "source": [
    "from langchain.chains import create_retrieval_chain\n",
    "from langchain.chains.combine_documents import create_stuff_documents_chain\n",
    "\n",
    "\n",
    "question_answer_chain = create_stuff_documents_chain(llm, qa_prompt)\n",
    "rag_chain = create_retrieval_chain(history_aware_retriever, question_answer_chain)"
   ]
  },
  {
   "cell_type": "markdown",
   "id": "65e6e219",
   "metadata": {},
   "source": [
    "**[세션별 기록 저장]**"
   ]
  },
  {
   "cell_type": "code",
   "execution_count": 13,
   "id": "a268a08d",
   "metadata": {},
   "outputs": [],
   "source": [
    "from langchain_community.chat_message_histories import ChatMessageHistory\n",
    "from langchain_core.chat_history import BaseChatMessageHistory\n",
    "from langchain_core.runnables.history import RunnableWithMessageHistory\n",
    "from langchain_core.messages import HumanMessage\n",
    "\n",
    "#채팅 세션별 기록 저장 위한 Dictionary 선언\n",
    "store = {}\n",
    "\n",
    "#주어진 session_id 값에 매칭되는 채팅 히스토리 가져오는 함수 선언\n",
    "def get_session_history(session_id: str) -> BaseChatMessageHistory:\n",
    "    if session_id not in store:\n",
    "        store[session_id] = ChatMessageHistory()\n",
    "    return store[session_id]\n",
    "\n",
    "\n",
    "#RunnableWithMessageHistory 모듈로 rag_chain에 채팅 기록 세션별로 자동 저장 기능 추가\n",
    "conversational_rag_chain = RunnableWithMessageHistory(\n",
    "    rag_chain,\n",
    "    get_session_history,\n",
    "    input_messages_key=\"input\",\n",
    "    history_messages_key=\"chat_history\",\n",
    "    output_messages_key=\"answer\",\n",
    ")"
   ]
  },
  {
   "cell_type": "markdown",
   "id": "fbfdee4e",
   "metadata": {},
   "source": [
    "### **[테스트]**"
   ]
  },
  {
   "cell_type": "code",
   "execution_count": 14,
   "id": "6f0d2a88",
   "metadata": {},
   "outputs": [
    {
     "name": "stdout",
     "output_type": "stream",
     "text": [
      "조퇴는 14:45부터 시작된 경우가 있으며, 다른 경우에도 15시 이후에 조퇴가 발생한 기록이 있습니다.\n"
     ]
    }
   ],
   "source": [
    "# ===================\n",
    "# 테스트 1\n",
    "# ===================\n",
    "\n",
    "#채팅 히스토리를 적재하기 위한 리스트\n",
    "chat_history = []\n",
    "\n",
    "question = \"몇 시부터 지각이야?\"\n",
    "\n",
    "#첫 질문에 답변하기 위한 rag_chain 실행\n",
    "ai_msg_1 = rag_chain.invoke({\"input\": question, \"chat_history\": chat_history})\n",
    "\n",
    "#첫 질문과 답변을 채팅 히스토리로 저장\n",
    "chat_history.extend([HumanMessage(content=question), AIMessage(content=ai_msg_1[\"answer\"])])\n",
    "\n",
    "second_question = \"조퇴는?\"\n",
    "\n",
    "#두번째 질문 입력 시에는 첫번째 질문-답변이 저장된 chat_history가 삽입됨\n",
    "ai_msg_2 = rag_chain.invoke({\"input\": second_question, \"chat_history\": chat_history})\n",
    "\n",
    "print(ai_msg_2[\"answer\"])"
   ]
  },
  {
   "cell_type": "code",
   "execution_count": 15,
   "id": "9741525b",
   "metadata": {},
   "outputs": [
    {
     "name": "stdout",
     "output_type": "stream",
     "text": [
      "문서에서 관련 내용이 확인되지 않습니다.\n"
     ]
    }
   ],
   "source": [
    "# ===================\n",
    "# 테스트 2\n",
    "# ===================\n",
    "\n",
    "chat_history = []\n",
    "\n",
    "question = \"몇 시부터 지각이야?\"\n",
    "\n",
    "ai_msg_1 = rag_chain.invoke({\"input\": question, \"chat_history\": chat_history})\n",
    "\n",
    "chat_history.extend([HumanMessage(content=question), AIMessage(content=ai_msg_1[\"answer\"])])\n",
    "\n",
    "second_question = \"휴가 신청서 작성해야 한다고 들었는데, 어떤 서류야?\"\n",
    "\n",
    "ai_msg_2 = rag_chain.invoke({\"input\": second_question, \"chat_history\": chat_history})\n",
    "\n",
    "print(ai_msg_2[\"answer\"])"
   ]
  },
  {
   "cell_type": "code",
   "execution_count": 16,
   "id": "be482f5e",
   "metadata": {},
   "outputs": [
    {
     "name": "stdout",
     "output_type": "stream",
     "text": [
      "문서에서 관련 내용이 확인되지 않습니다.\n"
     ]
    }
   ],
   "source": [
    "# ===================\n",
    "# 테스트 3\n",
    "# ===================\n",
    "\n",
    "question = \"휴가쓰고 싶어. 휴가 신청하려면 어떻게 해야해?\"\n",
    "result = rag_chain.invoke({\"input\": question, \"chat_history\": []})\n",
    "\n",
    "print(result[\"answer\"])"
   ]
  },
  {
   "cell_type": "code",
   "execution_count": 17,
   "id": "1d0d09ca",
   "metadata": {},
   "outputs": [
    {
     "name": "stdout",
     "output_type": "stream",
     "text": [
      "김정인의 취미는 맥켄지 신전운동, 정주이의 취미는 여행과 캠핑, 손호진의 취미는 여행과 외국어 공부, 이종석의 취미는 음악 감상과 게임, 차정은의 취미는 확인되지 않으며, 홍성민의 취미는 게임입니다.\n"
     ]
    }
   ],
   "source": [
    "# ===================\n",
    "# 테스트 4\n",
    "# ===================\n",
    "\n",
    "chat_history = []\n",
    "\n",
    "question = \"데이터 사이언스 5기 동료들 중 MBTI가 ISTJ 인 사람은 누구야?\"\n",
    "\n",
    "ai_msg_1 = rag_chain.invoke({\"input\": question, \"chat_history\": chat_history})\n",
    "\n",
    "chat_history.extend([HumanMessage(content=question), AIMessage(content=ai_msg_1[\"answer\"])])\n",
    "\n",
    "second_question = \"그 사람들의 취미는 뭐야?\"\n",
    "\n",
    "ai_msg_2 = rag_chain.invoke({\"input\": second_question, \"chat_history\": chat_history})\n",
    "\n",
    "print(ai_msg_2[\"answer\"])"
   ]
  },
  {
   "cell_type": "code",
   "execution_count": 18,
   "id": "43ea29da",
   "metadata": {},
   "outputs": [
    {
     "name": "stdout",
     "output_type": "stream",
     "text": [
      "문서에서 관련 내용이 확인되지 않습니다.\n"
     ]
    }
   ],
   "source": [
    "# ===================\n",
    "# 테스트 5\n",
    "# ===================\n",
    "\n",
    "question = \"나는 데싸5기 손호진이야. 지금까지 내가 총 조퇴와 결석을 몇 번 했는지 궁금해.\"\n",
    "result = rag_chain.invoke({\"input\": question, \"chat_history\": []})\n",
    "\n",
    "print(result[\"answer\"])"
   ]
  },
  {
   "cell_type": "code",
   "execution_count": 19,
   "id": "bb2420e4",
   "metadata": {},
   "outputs": [
    {
     "name": "stdout",
     "output_type": "stream",
     "text": [
      "모두연은 '모두의 연구소'로, 자유롭게 연구하고 학습할 수 있는 커뮤니티입니다. 이곳은 경쟁 없이 협력하며 상생과 성장을 추구하는 공간으로, 스스로 학습할 수 있는 환경을 제공합니다. 또한, 다양한 주제를 탐구하고 함께 배우는 것을 중요시합니다.\n"
     ]
    }
   ],
   "source": [
    "# ===================\n",
    "# 테스트 6\n",
    "# ===================\n",
    "\n",
    "question = \"모두연이 뭐야?\"\n",
    "result = rag_chain.invoke({\"input\": question, \"chat_history\": []})\n",
    "\n",
    "print(result[\"answer\"])"
   ]
  },
  {
   "cell_type": "code",
   "execution_count": 20,
   "id": "7462ecec",
   "metadata": {},
   "outputs": [
    {
     "name": "stdout",
     "output_type": "stream",
     "text": [
      "모두의 연구소의 핵심 슬로건은 ‘쉐벨그투’로, 이는 쉐어 벨류 그로우 투게더(SHARE VALUE, GROW TOGETHER)의 각 영어 단어의 첫 한글 발음 모음입니다.\n"
     ]
    }
   ],
   "source": [
    "# ===================\n",
    "# 테스트 7\n",
    "# ===================\n",
    "\n",
    "question = \"모두의 연구소의 핵심 슬로건이 뭐야?\"\n",
    "result = rag_chain.invoke({\"input\": question, \"chat_history\": []})\n",
    "\n",
    "print(result[\"answer\"])"
   ]
  },
  {
   "cell_type": "code",
   "execution_count": 21,
   "id": "e6b6a261",
   "metadata": {},
   "outputs": [
    {
     "name": "stdout",
     "output_type": "stream",
     "text": [
      "쉐벨그투는 '쉐어 벨류 그로우 투게더(SHARE VALUE, GROW TOGETHER)'의 약자로, 각 영어 단어의 첫 한글 발음 모음으로 구성된 핵심 슬로건입니다.\n"
     ]
    }
   ],
   "source": [
    "# ===================\n",
    "# 테스트 8\n",
    "# ===================\n",
    "\n",
    "question = \"쉐벨그투에 대해 알려줘.\"\n",
    "result = rag_chain.invoke({\"input\": question, \"chat_history\": []})\n",
    "\n",
    "print(result[\"answer\"])"
   ]
  }
 ],
 "metadata": {
  "kernelspec": {
   "display_name": "Python 3.12 (LangchainThon)",
   "language": "python",
   "name": "rag"
  },
  "language_info": {
   "codemirror_mode": {
    "name": "ipython",
    "version": 3
   },
   "file_extension": ".py",
   "mimetype": "text/x-python",
   "name": "python",
   "nbconvert_exporter": "python",
   "pygments_lexer": "ipython3",
   "version": "3.12.10"
  }
 },
 "nbformat": 4,
 "nbformat_minor": 5
}
